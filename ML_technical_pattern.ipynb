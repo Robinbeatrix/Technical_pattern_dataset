{
 "cells": [
  {
   "cell_type": "markdown",
   "metadata": {},
   "source": [
    "# Import all dependencies"
   ]
  },
  {
   "cell_type": "code",
   "execution_count": 2,
   "metadata": {},
   "outputs": [],
   "source": [
    "import matplotlib.pyplot as plt\n",
    "import pandas as pd\n",
    "import numpy as np\n",
    "import seaborn as sns\n",
    "from sklearn.utils import shuffle"
   ]
  },
  {
   "cell_type": "markdown",
   "metadata": {},
   "source": [
    "# Shuffle the Datafram for randomization"
   ]
  },
  {
   "cell_type": "code",
   "execution_count": 6,
   "metadata": {
    "scrolled": true
   },
   "outputs": [],
   "source": [
    "df1 = pd.read_csv('/home/robin/technical_pattern_found.csv')\n",
    "dataset_patterns = shuffle(df1)\n",
    "dataset_patterns.reset_index(drop=True,inplace=True)"
   ]
  },
  {
   "cell_type": "code",
   "execution_count": 100,
   "metadata": {
    "scrolled": true
   },
   "outputs": [
    {
     "name": "stdout",
     "output_type": "stream",
     "text": [
      "<class 'pandas.core.frame.DataFrame'>\n",
      "RangeIndex: 233200 entries, 0 to 233199\n",
      "Data columns (total 7 columns):\n",
      "Pattern_Name    233200 non-null object\n",
      "E1              233200 non-null float64\n",
      "E2              233200 non-null float64\n",
      "E3              233200 non-null float64\n",
      "E4              233200 non-null float64\n",
      "E5              233200 non-null float64\n",
      "Days/Bars       233200 non-null int64\n",
      "dtypes: float64(5), int64(1), object(1)\n",
      "memory usage: 12.5+ MB\n",
      "None\n"
     ]
    }
   ],
   "source": [
    "print(dataset_patterns.info())"
   ]
  },
  {
   "cell_type": "code",
   "execution_count": 101,
   "metadata": {},
   "outputs": [
    {
     "name": "stdout",
     "output_type": "stream",
     "text": [
      "[2 7 3 1 4 0 5 6]\n"
     ]
    }
   ],
   "source": [
    "dataset_patterns.Pattern_Name = dataset_patterns.Pattern_Name.map({'TBOT':0,'IHS':1,'HS':2,'RTOP':3,'RBOT':4,\n",
    "                                                                 'TTOP':5,'BTOP':6,'BBOT':7})\n",
    "print(dataset_patterns.Pattern_Name.unique())"
   ]
  },
  {
   "cell_type": "code",
   "execution_count": 103,
   "metadata": {},
   "outputs": [
    {
     "data": {
      "text/html": [
       "<div>\n",
       "<style scoped>\n",
       "    .dataframe tbody tr th:only-of-type {\n",
       "        vertical-align: middle;\n",
       "    }\n",
       "\n",
       "    .dataframe tbody tr th {\n",
       "        vertical-align: top;\n",
       "    }\n",
       "\n",
       "    .dataframe thead th {\n",
       "        text-align: right;\n",
       "    }\n",
       "</style>\n",
       "<table border=\"1\" class=\"dataframe\">\n",
       "  <thead>\n",
       "    <tr style=\"text-align: right;\">\n",
       "      <th></th>\n",
       "      <th>Pattern_Name</th>\n",
       "      <th>E1</th>\n",
       "      <th>E2</th>\n",
       "      <th>E3</th>\n",
       "      <th>E4</th>\n",
       "      <th>E5</th>\n",
       "      <th>Days/Bars</th>\n",
       "    </tr>\n",
       "  </thead>\n",
       "  <tbody>\n",
       "    <tr>\n",
       "      <th>count</th>\n",
       "      <td>233200.000000</td>\n",
       "      <td>233200.000000</td>\n",
       "      <td>233200.000000</td>\n",
       "      <td>233200.000000</td>\n",
       "      <td>233200.000000</td>\n",
       "      <td>233200.000000</td>\n",
       "      <td>233200.000000</td>\n",
       "    </tr>\n",
       "    <tr>\n",
       "      <th>mean</th>\n",
       "      <td>2.800287</td>\n",
       "      <td>1.139321</td>\n",
       "      <td>1.139314</td>\n",
       "      <td>1.139341</td>\n",
       "      <td>1.139291</td>\n",
       "      <td>1.139375</td>\n",
       "      <td>22.195150</td>\n",
       "    </tr>\n",
       "    <tr>\n",
       "      <th>std</th>\n",
       "      <td>1.343429</td>\n",
       "      <td>0.050031</td>\n",
       "      <td>0.050027</td>\n",
       "      <td>0.050028</td>\n",
       "      <td>0.050027</td>\n",
       "      <td>0.050026</td>\n",
       "      <td>7.601658</td>\n",
       "    </tr>\n",
       "    <tr>\n",
       "      <th>min</th>\n",
       "      <td>0.000000</td>\n",
       "      <td>1.035450</td>\n",
       "      <td>1.035230</td>\n",
       "      <td>1.035570</td>\n",
       "      <td>1.035230</td>\n",
       "      <td>1.034350</td>\n",
       "      <td>4.000000</td>\n",
       "    </tr>\n",
       "    <tr>\n",
       "      <th>25%</th>\n",
       "      <td>2.000000</td>\n",
       "      <td>1.105380</td>\n",
       "      <td>1.105350</td>\n",
       "      <td>1.105410</td>\n",
       "      <td>1.105360</td>\n",
       "      <td>1.105450</td>\n",
       "      <td>17.000000</td>\n",
       "    </tr>\n",
       "    <tr>\n",
       "      <th>50%</th>\n",
       "      <td>3.000000</td>\n",
       "      <td>1.136520</td>\n",
       "      <td>1.136540</td>\n",
       "      <td>1.136550</td>\n",
       "      <td>1.136520</td>\n",
       "      <td>1.136600</td>\n",
       "      <td>23.000000</td>\n",
       "    </tr>\n",
       "    <tr>\n",
       "      <th>75%</th>\n",
       "      <td>4.000000</td>\n",
       "      <td>1.175030</td>\n",
       "      <td>1.175030</td>\n",
       "      <td>1.175060</td>\n",
       "      <td>1.175010</td>\n",
       "      <td>1.175090</td>\n",
       "      <td>28.000000</td>\n",
       "    </tr>\n",
       "    <tr>\n",
       "      <th>max</th>\n",
       "      <td>7.000000</td>\n",
       "      <td>1.255410</td>\n",
       "      <td>1.255170</td>\n",
       "      <td>1.255300</td>\n",
       "      <td>1.255300</td>\n",
       "      <td>1.255300</td>\n",
       "      <td>35.000000</td>\n",
       "    </tr>\n",
       "  </tbody>\n",
       "</table>\n",
       "</div>"
      ],
      "text/plain": [
       "        Pattern_Name             E1             E2             E3  \\\n",
       "count  233200.000000  233200.000000  233200.000000  233200.000000   \n",
       "mean        2.800287       1.139321       1.139314       1.139341   \n",
       "std         1.343429       0.050031       0.050027       0.050028   \n",
       "min         0.000000       1.035450       1.035230       1.035570   \n",
       "25%         2.000000       1.105380       1.105350       1.105410   \n",
       "50%         3.000000       1.136520       1.136540       1.136550   \n",
       "75%         4.000000       1.175030       1.175030       1.175060   \n",
       "max         7.000000       1.255410       1.255170       1.255300   \n",
       "\n",
       "                  E4             E5      Days/Bars  \n",
       "count  233200.000000  233200.000000  233200.000000  \n",
       "mean        1.139291       1.139375      22.195150  \n",
       "std         0.050027       0.050026       7.601658  \n",
       "min         1.035230       1.034350       4.000000  \n",
       "25%         1.105360       1.105450      17.000000  \n",
       "50%         1.136520       1.136600      23.000000  \n",
       "75%         1.175010       1.175090      28.000000  \n",
       "max         1.255300       1.255300      35.000000  "
      ]
     },
     "execution_count": 103,
     "metadata": {},
     "output_type": "execute_result"
    }
   ],
   "source": [
    "dataset_patterns.describe()"
   ]
  },
  {
   "cell_type": "code",
   "execution_count": 109,
   "metadata": {},
   "outputs": [
    {
     "data": {
      "text/html": [
       "<div>\n",
       "<style scoped>\n",
       "    .dataframe tbody tr th:only-of-type {\n",
       "        vertical-align: middle;\n",
       "    }\n",
       "\n",
       "    .dataframe tbody tr th {\n",
       "        vertical-align: top;\n",
       "    }\n",
       "\n",
       "    .dataframe thead th {\n",
       "        text-align: right;\n",
       "    }\n",
       "</style>\n",
       "<table border=\"1\" class=\"dataframe\">\n",
       "  <thead>\n",
       "    <tr style=\"text-align: right;\">\n",
       "      <th></th>\n",
       "      <th>Pattern_Name</th>\n",
       "      <th>E1</th>\n",
       "      <th>E2</th>\n",
       "      <th>E3</th>\n",
       "      <th>E4</th>\n",
       "      <th>E5</th>\n",
       "      <th>Days/Bars</th>\n",
       "    </tr>\n",
       "  </thead>\n",
       "  <tbody>\n",
       "    <tr>\n",
       "      <th>Pattern_Name</th>\n",
       "      <td>1.000000</td>\n",
       "      <td>0.001532</td>\n",
       "      <td>-0.000048</td>\n",
       "      <td>0.001582</td>\n",
       "      <td>0.000354</td>\n",
       "      <td>-0.001532</td>\n",
       "      <td>0.001005</td>\n",
       "    </tr>\n",
       "    <tr>\n",
       "      <th>E1</th>\n",
       "      <td>0.001532</td>\n",
       "      <td>1.000000</td>\n",
       "      <td>0.999220</td>\n",
       "      <td>0.999202</td>\n",
       "      <td>0.999124</td>\n",
       "      <td>0.998291</td>\n",
       "      <td>-0.008119</td>\n",
       "    </tr>\n",
       "    <tr>\n",
       "      <th>E2</th>\n",
       "      <td>-0.000048</td>\n",
       "      <td>0.999220</td>\n",
       "      <td>1.000000</td>\n",
       "      <td>0.999877</td>\n",
       "      <td>0.999875</td>\n",
       "      <td>0.998990</td>\n",
       "      <td>-0.008049</td>\n",
       "    </tr>\n",
       "    <tr>\n",
       "      <th>E3</th>\n",
       "      <td>0.001582</td>\n",
       "      <td>0.999202</td>\n",
       "      <td>0.999877</td>\n",
       "      <td>1.000000</td>\n",
       "      <td>0.999885</td>\n",
       "      <td>0.999070</td>\n",
       "      <td>-0.008103</td>\n",
       "    </tr>\n",
       "    <tr>\n",
       "      <th>E4</th>\n",
       "      <td>0.000354</td>\n",
       "      <td>0.999124</td>\n",
       "      <td>0.999875</td>\n",
       "      <td>0.999885</td>\n",
       "      <td>1.000000</td>\n",
       "      <td>0.999090</td>\n",
       "      <td>-0.008116</td>\n",
       "    </tr>\n",
       "    <tr>\n",
       "      <th>E5</th>\n",
       "      <td>-0.001532</td>\n",
       "      <td>0.998291</td>\n",
       "      <td>0.998990</td>\n",
       "      <td>0.999070</td>\n",
       "      <td>0.999090</td>\n",
       "      <td>1.000000</td>\n",
       "      <td>-0.008043</td>\n",
       "    </tr>\n",
       "    <tr>\n",
       "      <th>Days/Bars</th>\n",
       "      <td>0.001005</td>\n",
       "      <td>-0.008119</td>\n",
       "      <td>-0.008049</td>\n",
       "      <td>-0.008103</td>\n",
       "      <td>-0.008116</td>\n",
       "      <td>-0.008043</td>\n",
       "      <td>1.000000</td>\n",
       "    </tr>\n",
       "  </tbody>\n",
       "</table>\n",
       "</div>"
      ],
      "text/plain": [
       "              Pattern_Name        E1        E2        E3        E4        E5  \\\n",
       "Pattern_Name      1.000000  0.001532 -0.000048  0.001582  0.000354 -0.001532   \n",
       "E1                0.001532  1.000000  0.999220  0.999202  0.999124  0.998291   \n",
       "E2               -0.000048  0.999220  1.000000  0.999877  0.999875  0.998990   \n",
       "E3                0.001582  0.999202  0.999877  1.000000  0.999885  0.999070   \n",
       "E4                0.000354  0.999124  0.999875  0.999885  1.000000  0.999090   \n",
       "E5               -0.001532  0.998291  0.998990  0.999070  0.999090  1.000000   \n",
       "Days/Bars         0.001005 -0.008119 -0.008049 -0.008103 -0.008116 -0.008043   \n",
       "\n",
       "              Days/Bars  \n",
       "Pattern_Name   0.001005  \n",
       "E1            -0.008119  \n",
       "E2            -0.008049  \n",
       "E3            -0.008103  \n",
       "E4            -0.008116  \n",
       "E5            -0.008043  \n",
       "Days/Bars      1.000000  "
      ]
     },
     "execution_count": 109,
     "metadata": {},
     "output_type": "execute_result"
    }
   ],
   "source": [
    "dataset_patterns.corr()"
   ]
  },
  {
   "cell_type": "markdown",
   "metadata": {},
   "source": [
    "# Training the model\n",
    "Now its time to train the model with our dataset. We are going to split the dataset into a trainset and testset using scipy's train_test_split function"
   ]
  },
  {
   "cell_type": "code",
   "execution_count": 112,
   "metadata": {},
   "outputs": [],
   "source": [
    "X = dataset_patterns[['E1','E2','E3','E4','E5','Days/Bars']]\n",
    "y = dataset_patterns['Pattern_Name']"
   ]
  },
  {
   "cell_type": "code",
   "execution_count": 113,
   "metadata": {},
   "outputs": [],
   "source": [
    "from sklearn.model_selection import train_test_split"
   ]
  },
  {
   "cell_type": "code",
   "execution_count": 128,
   "metadata": {},
   "outputs": [],
   "source": [
    "X_train, X_test,y_train,y_test = train_test_split(X,y,test_size=0.2)"
   ]
  },
  {
   "cell_type": "markdown",
   "metadata": {},
   "source": [
    "# Calling the RandomForest Classifier\n",
    "For more info on how this works, visit the scipy's documentation regarding different ML models. For our case and simplicity we are going to use Random Forest. You can get fancy with this and use Griddearch to find a model that fits with higher accuracy and optimized parameters and hyperparameters."
   ]
  },
  {
   "cell_type": "code",
   "execution_count": 131,
   "metadata": {
    "scrolled": false
   },
   "outputs": [
    {
     "data": {
      "text/plain": [
       "RandomForestClassifier(bootstrap=True, class_weight=None, criterion='gini',\n",
       "            max_depth=None, max_features='auto', max_leaf_nodes=None,\n",
       "            min_impurity_decrease=0.0, min_impurity_split=None,\n",
       "            min_samples_leaf=1, min_samples_split=2,\n",
       "            min_weight_fraction_leaf=0.0, n_estimators=90, n_jobs=None,\n",
       "            oob_score=False, random_state=None, verbose=0,\n",
       "            warm_start=False)"
      ]
     },
     "execution_count": 131,
     "metadata": {},
     "output_type": "execute_result"
    }
   ],
   "source": [
    "from sklearn.ensemble import RandomForestClassifier\n",
    "model = RandomForestClassifier(n_estimators=90)\n",
    "model.fit(X_train,y_train)"
   ]
  },
  {
   "cell_type": "markdown",
   "metadata": {},
   "source": [
    "# Model Result"
   ]
  },
  {
   "cell_type": "code",
   "execution_count": 132,
   "metadata": {},
   "outputs": [
    {
     "data": {
      "text/plain": [
       "0.9034305317324185"
      ]
     },
     "execution_count": 132,
     "metadata": {},
     "output_type": "execute_result"
    }
   ],
   "source": [
    "model.score(X_test,y_test)"
   ]
  },
  {
   "cell_type": "code",
   "execution_count": null,
   "metadata": {},
   "outputs": [],
   "source": []
  }
 ],
 "metadata": {
  "kernelspec": {
   "display_name": "Python 3",
   "language": "python",
   "name": "python3"
  },
  "language_info": {
   "codemirror_mode": {
    "name": "ipython",
    "version": 3
   },
   "file_extension": ".py",
   "mimetype": "text/x-python",
   "name": "python",
   "nbconvert_exporter": "python",
   "pygments_lexer": "ipython3",
   "version": "3.7.3"
  }
 },
 "nbformat": 4,
 "nbformat_minor": 2
}
